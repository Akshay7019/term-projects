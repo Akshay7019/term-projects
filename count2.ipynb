{
 "cells": [
  {
   "cell_type": "code",
   "execution_count": 8,
   "metadata": {
    "collapsed": false
   },
   "outputs": [
    {
     "name": "stdout",
     "output_type": "stream",
     "text": [
      "[16929.000545950865, 12386.161717495987, 22922.291666666668, 13253.251046025105, 10415.790849673203]\n"
     ]
    }
   ],
   "source": [
    "import plotly.plotly as py\n",
    "import plotly.graph_objs as go\n",
    "\n",
    "file_count = [5495,2492,1896,478,153]\n",
    "file_size = [93024858,30866315,43460665,6335054,1593616 ]\n",
    "avg = []\n",
    "count = len(file_count)\n",
    "    \n",
    "for x in range(count):\n",
    "    avg.append(file_size[x]/file_count[x])\n",
    "\n",
    "print(avg)\n",
    "    "
   ]
  },
  {
   "cell_type": "code",
   "execution_count": 9,
   "metadata": {
    "collapsed": false
   },
   "outputs": [
    {
     "data": {
      "text/html": [
       "<iframe id=\"igraph\" scrolling=\"no\" style=\"border:none;\" seamless=\"seamless\" src=\"https://plot.ly/~chirutr22/10.embed\" height=\"525px\" width=\"100%\"></iframe>"
      ],
      "text/plain": [
       "<plotly.tools.PlotlyDisplay object>"
      ]
     },
     "execution_count": 9,
     "metadata": {},
     "output_type": "execute_result"
    }
   ],
   "source": [
    "trace1 = go.Bar(\n",
    "    x=['header files','c files','html files','python files','shell files'],\n",
    "    y=file_count,\n",
    "    name='count'\n",
    ")\n",
    "trace2 = go.Bar(\n",
    "    x=['header files','c files','html files','python files','shell files'],\n",
    "    y=avg,\n",
    "    name='size in bytes'\n",
    ")\n",
    "\n",
    "\n",
    "# u have missed VLSI data... edit above\n",
    "\n",
    "#similarly try for sizes of file\n",
    "\n",
    "data = [trace1, trace2]\n",
    "layout = go.Layout(\n",
    "    barmode='group'\n",
    ")\n",
    "\n",
    "fig = go.Figure(data=data, layout=layout)\n",
    "py.iplot(fig, filename='grouped-bar')"
   ]
  }
 ],
 "metadata": {
  "anaconda-cloud": {},
  "kernelspec": {
   "display_name": "Python [Root]",
   "language": "python",
   "name": "Python [Root]"
  },
  "language_info": {
   "codemirror_mode": {
    "name": "ipython",
    "version": 3
   },
   "file_extension": ".py",
   "mimetype": "text/x-python",
   "name": "python",
   "nbconvert_exporter": "python",
   "pygments_lexer": "ipython3",
   "version": "3.5.2"
  }
 },
 "nbformat": 4,
 "nbformat_minor": 0
}
