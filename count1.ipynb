{
 "cells": [
  {
   "cell_type": "code",
   "execution_count": 36,
   "metadata": {
    "collapsed": false
   },
   "outputs": [
    {
     "name": "stdout",
     "output_type": "stream",
     "text": [
      "5\n",
      "[201148334.08, 58279854.08, 473169920.0, 105822289.92, 0]\n",
      "[7770.845434807804, 16458.586297656027, 19787.14172207586, 70548.19328]\n"
     ]
    }
   ],
   "source": [
    "import plotly.plotly as py\n",
    "import plotly.graph_objs as go\n",
    "\n",
    "file_count = [25885,3541,23913,1500,0]\n",
    "file_size = [191.83,55.58,451.25,100.92,0]\n",
    "avg = [] \n",
    "\n",
    "count = len(file_count)\n",
    "print(count)\n",
    "\n",
    "for x in range(count):\n",
    "    file_size[x] *= 1048576\n",
    "    \n",
    "for x in range(count - 1):\n",
    "    avg.append(file_size[x]/file_count[x])\n",
    "\n",
    "print(avg)\n",
    "    "
   ]
  },
  {
   "cell_type": "code",
   "execution_count": 37,
   "metadata": {
    "collapsed": false
   },
   "outputs": [
    {
     "data": {
      "text/html": [
       "<iframe id=\"igraph\" scrolling=\"no\" style=\"border:none;\" seamless=\"seamless\" src=\"https://plot.ly/~chirutr22/10.embed\" height=\"525px\" width=\"100%\"></iframe>"
      ],
      "text/plain": [
       "<plotly.tools.PlotlyDisplay object>"
      ]
     },
     "execution_count": 37,
     "metadata": {},
     "output_type": "execute_result"
    }
   ],
   "source": [
    "trace1 = go.Bar(\n",
    "    x=['header files','c files','html files','python files','shell files'],\n",
    "    y=[25885,3541,23913,1230,0],\n",
    "    name='count'\n",
    ")\n",
    "trace2 = go.Bar(\n",
    "    x=['header files','c files','html files','python files','shell files'],\n",
    "    y=avg,\n",
    "    name='size in bytes'\n",
    ")\n",
    "\n",
    "\n",
    "# u have missed VLSI data... edit above\n",
    "\n",
    "#similarly try for sizes of file\n",
    "\n",
    "data = [trace1, trace2]\n",
    "layout = go.Layout(\n",
    "    barmode='group'\n",
    ")\n",
    "\n",
    "fig = go.Figure(data=data, layout=layout)\n",
    "py.iplot(fig, filename='grouped-bar')"
   ]
  },
  {
   "cell_type": "code",
   "execution_count": null,
   "metadata": {
    "collapsed": true
   },
   "outputs": [],
   "source": []
  }
 ],
 "metadata": {
  "anaconda-cloud": {},
  "kernelspec": {
   "display_name": "Python [Root]",
   "language": "python",
   "name": "Python [Root]"
  },
  "language_info": {
   "codemirror_mode": {
    "name": "ipython",
    "version": 3
   },
   "file_extension": ".py",
   "mimetype": "text/x-python",
   "name": "python",
   "nbconvert_exporter": "python",
   "pygments_lexer": "ipython3",
   "version": "3.5.2"
  }
 },
 "nbformat": 4,
 "nbformat_minor": 0
}
